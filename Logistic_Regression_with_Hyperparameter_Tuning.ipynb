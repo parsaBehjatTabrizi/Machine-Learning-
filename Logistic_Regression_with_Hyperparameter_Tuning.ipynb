{
  "nbformat": 4,
  "nbformat_minor": 0,
  "metadata": {
    "colab": {
      "provenance": [],
      "gpuType": "T4"
    },
    "kernelspec": {
      "name": "python3",
      "display_name": "Python 3"
    },
    "language_info": {
      "name": "python"
    },
    "accelerator": "GPU"
  },
  "cells": [
    {
      "cell_type": "markdown",
      "source": [
        "### Logistic Regression, ROC Curve, Hyperparameter Tuning, and Confusion Matrix  \n",
        "---\n",
        "Logistic Regression is a supervised learning algorithm used for classification, particularly binary classification. It predicts the probability that an input belongs to a certain class using the logistic (sigmoid) function, mapping outputs between 0 and 1. The model is trained by optimizing the log-likelihood function, making it useful for applications like medical diagnosis and fraud detection.  \n",
        "\n",
        "To evaluate its performance, the **Receiver Operating Characteristic (ROC) curve** is used, which plots the True Positive Rate (TPR) against the False Positive Rate (FPR) at various thresholds. The **Area Under the Curve (AUC)** measures overall model performance, with values closer to 1 indicating better discrimination. Additionally, hyperparameter tuning, such as adjusting the regularization strength (`C` in logistic regression), helps improve accuracy and prevent overfitting, often performed using Grid Search or Random Search with cross-validation. Another essential evaluation tool is the **confusion matrix**, which summarizes predictions by displaying True Positives, True Negatives, False Positives, and False Negatives. This matrix helps compute key metrics like precision, recall, and F1-score, offering a deeper understanding of the model's strengths and weaknesses.  \n",
        "\n",
        "---\n"
      ],
      "metadata": {
        "id": "JJEYzM7voAwh"
      }
    },
    {
      "cell_type": "markdown",
      "source": [
        "**Importing necessary libraries**\n",
        "\n",
        "\n",
        "---"
      ],
      "metadata": {
        "id": "pPrrv26ZoDki"
      }
    },
    {
      "cell_type": "code",
      "source": [
        "import kagglehub\n",
        "import pandas as pd\n",
        "import numpy as np\n",
        "import seaborn as sns\n",
        "import matplotlib.pyplot as plt\n",
        "from sklearn.model_selection import train_test_split, GridSearchCV, StratifiedKFold\n",
        "from sklearn.preprocessing import StandardScaler, PolynomialFeatures, LabelEncoder\n",
        "from sklearn.impute import KNNImputer\n",
        "from sklearn.linear_model import LogisticRegression\n",
        "from sklearn.metrics import accuracy_score, confusion_matrix, classification_report, roc_curve, roc_auc_score\n",
        "from sklearn.feature_selection import RFE\n"
      ],
      "metadata": {
        "id": "HOdeX1HjVwUZ"
      },
      "execution_count": 1,
      "outputs": []
    },
    {
      "cell_type": "markdown",
      "source": [
        " Downloading shivadumnawar/titanic dataset\n",
        "\n",
        "\n",
        " ---"
      ],
      "metadata": {
        "id": "wE_trpCaoKCc"
      }
    },
    {
      "cell_type": "code",
      "source": [
        "path = kagglehub.dataset_download(\"shivadumnawar/titanic-dataset\")\n",
        "df = pd.read_csv(f\"{path}/train.csv\")"
      ],
      "metadata": {
        "colab": {
          "base_uri": "https://localhost:8080/"
        },
        "id": "ZYC3PiojVr6L",
        "outputId": "fffa917d-0c49-48fd-f6c0-a1d9c1d61474"
      },
      "execution_count": 2,
      "outputs": [
        {
          "output_type": "stream",
          "name": "stdout",
          "text": [
            "Downloading from https://www.kaggle.com/api/v1/datasets/download/shivadumnawar/titanic-dataset?dataset_version_number=1...\n"
          ]
        },
        {
          "output_type": "stream",
          "name": "stderr",
          "text": [
            "100%|██████████| 33.1k/33.1k [00:00<00:00, 3.66MB/s]"
          ]
        },
        {
          "output_type": "stream",
          "name": "stdout",
          "text": [
            "Extracting files...\n"
          ]
        },
        {
          "output_type": "stream",
          "name": "stderr",
          "text": [
            "\n"
          ]
        }
      ]
    },
    {
      "cell_type": "markdown",
      "source": [
        "#Feature Engineering - Extract Title from Name\n",
        "\n",
        "---"
      ],
      "metadata": {
        "id": "B0a6KzIsoiEo"
      }
    },
    {
      "cell_type": "code",
      "source": [
        "df['Title'] = df['Name'].str.extract(' ([A-Za-z]+)\\\\.')\n",
        "title_replacements = {'Mlle': 'Miss', 'Mme': 'Mrs', 'Ms': 'Miss', 'Dr': 'Rare', 'Rev': 'Rare', 'Col': 'Rare', 'Major': 'Rare'}\n",
        "df['Title'] = df['Title'].replace(title_replacements)\n",
        "df['Title'] = df['Title'].apply(lambda x: x if x in ['Mr', 'Miss', 'Mrs', 'Master'] else 'Rare')\n"
      ],
      "metadata": {
        "id": "BJR74O9ZVuDs"
      },
      "execution_count": 3,
      "outputs": []
    },
    {
      "cell_type": "markdown",
      "source": [
        "Fill Missing Values using KNN Imputer\n",
        "\n",
        "\n",
        "---\n",
        "Convert Age and Fare into Bins and Create Family Features\n"
      ],
      "metadata": {
        "id": "IGfP3E2MomZ8"
      }
    },
    {
      "cell_type": "code",
      "source": [
        "imputer = KNNImputer(n_neighbors=5)\n",
        "df[['Age', 'Fare']] = imputer.fit_transform(df[['Age', 'Fare']])\n",
        "\n",
        "\n",
        "df['AgeBin'] = pd.cut(df['Age'], bins=[0, 12, 20, 40, 60, 80], labels=[0, 1, 2, 3, 4])\n",
        "df['FareBin'] = pd.qcut(df['Fare'], 4, labels=[0, 1, 2, 3])\n",
        "\n",
        "df['FamilySize'] = df['SibSp'] + df['Parch'] + 1\n",
        "df['IsAlone'] = (df['FamilySize'] == 1).astype(int)"
      ],
      "metadata": {
        "id": "dkymu-JkVzzp"
      },
      "execution_count": 4,
      "outputs": []
    },
    {
      "cell_type": "markdown",
      "source": [
        "Drop Unnecessary Columns and Encode Categorical Variables"
      ],
      "metadata": {
        "id": "UikF-WgRpFvZ"
      }
    },
    {
      "cell_type": "code",
      "source": [
        "\n",
        "df.drop(['PassengerId', 'Name', 'Ticket', 'Cabin'], axis=1, inplace=True)\n",
        "\n",
        "\n",
        "df = pd.get_dummies(df, columns=['Sex', 'Embarked', 'Title'], drop_first=True)\n"
      ],
      "metadata": {
        "id": "6CmRmd0oV7TG"
      },
      "execution_count": 5,
      "outputs": []
    },
    {
      "cell_type": "markdown",
      "source": [
        " #Define X and y\n",
        "\n",
        " ---"
      ],
      "metadata": {
        "id": "H0YzRRXEpQ3F"
      }
    },
    {
      "cell_type": "code",
      "source": [
        " #Define X and y\n",
        "X = df.drop('Survived', axis=1)\n",
        "y = df['Survived']\n",
        "\n",
        "# Train-Test Split with Stratification\n",
        "X_train, X_test, y_train, y_test = train_test_split(X, y, test_size=0.2, random_state=42, stratify=y)\n",
        "\n",
        "# Feature Scaling\n",
        "scaler = StandardScaler()\n",
        "X_train_scaled = scaler.fit_transform(X_train)\n",
        "X_test_scaled = scaler.transform(X_test)\n",
        "\n",
        "# Feature Selection using RFE\n",
        "log_reg = LogisticRegression(max_iter=1000, class_weight='balanced', solver='saga', penalty='elasticnet', l1_ratio=0.5)\n",
        "rfe = RFE(log_reg, n_features_to_select=8)\n",
        "X_train_selected = rfe.fit_transform(X_train_scaled, y_train)\n",
        "X_test_selected = rfe.transform(X_test_scaled)"
      ],
      "metadata": {
        "id": "6adotBA8V_su"
      },
      "execution_count": 6,
      "outputs": []
    },
    {
      "cell_type": "markdown",
      "source": [
        "Hyperparameter Tuning using GridSearchCV\n",
        "\n",
        "---"
      ],
      "metadata": {
        "id": "Cs450W2bpUY8"
      }
    },
    {
      "cell_type": "code",
      "source": [
        "param_grid = {'C': [0.001, 0.01, 0.1, 1, 10, 100], 'solver': ['liblinear', 'saga'], 'penalty': ['l1', 'l2', 'elasticnet'], 'l1_ratio': [0.1, 0.5, 0.9]}\n",
        "model = GridSearchCV(LogisticRegression(class_weight='balanced', max_iter=1000), param_grid, cv=5, scoring='accuracy', n_jobs=-1)\n",
        "model.fit(X_train_selected, y_train)\n",
        "\n",
        "\n",
        "\n",
        "tuned_model = model.best_estimator_\n",
        "print(f\"Best Parameters: {model.best_params_}\")\n"
      ],
      "metadata": {
        "colab": {
          "base_uri": "https://localhost:8080/"
        },
        "id": "yo6bLY4AWFxr",
        "outputId": "8d4381fd-7f1a-47da-b120-0f02a2244fa5"
      },
      "execution_count": 7,
      "outputs": [
        {
          "output_type": "stream",
          "name": "stdout",
          "text": [
            "Best Parameters: {'C': 1, 'l1_ratio': 0.1, 'penalty': 'l2', 'solver': 'liblinear'}\n"
          ]
        },
        {
          "output_type": "stream",
          "name": "stderr",
          "text": [
            "/usr/local/lib/python3.11/dist-packages/sklearn/model_selection/_validation.py:528: FitFailedWarning: \n",
            "90 fits failed out of a total of 540.\n",
            "The score on these train-test partitions for these parameters will be set to nan.\n",
            "If these failures are not expected, you can try to debug them by setting error_score='raise'.\n",
            "\n",
            "Below are more details about the failures:\n",
            "--------------------------------------------------------------------------------\n",
            "90 fits failed with the following error:\n",
            "Traceback (most recent call last):\n",
            "  File \"/usr/local/lib/python3.11/dist-packages/sklearn/model_selection/_validation.py\", line 866, in _fit_and_score\n",
            "    estimator.fit(X_train, y_train, **fit_params)\n",
            "  File \"/usr/local/lib/python3.11/dist-packages/sklearn/base.py\", line 1389, in wrapper\n",
            "    return fit_method(estimator, *args, **kwargs)\n",
            "           ^^^^^^^^^^^^^^^^^^^^^^^^^^^^^^^^^^^^^^\n",
            "  File \"/usr/local/lib/python3.11/dist-packages/sklearn/linear_model/_logistic.py\", line 1193, in fit\n",
            "    solver = _check_solver(self.solver, self.penalty, self.dual)\n",
            "             ^^^^^^^^^^^^^^^^^^^^^^^^^^^^^^^^^^^^^^^^^^^^^^^^^^^\n",
            "  File \"/usr/local/lib/python3.11/dist-packages/sklearn/linear_model/_logistic.py\", line 71, in _check_solver\n",
            "    raise ValueError(\n",
            "ValueError: Only 'saga' solver supports elasticnet penalty, got solver=liblinear.\n",
            "\n",
            "  warnings.warn(some_fits_failed_message, FitFailedWarning)\n",
            "/usr/local/lib/python3.11/dist-packages/sklearn/model_selection/_search.py:1108: UserWarning: One or more of the test scores are non-finite: [0.61657638 0.52253521 0.78798385 0.79777406        nan 0.7851571\n",
            " 0.61657638 0.47638137 0.78798385 0.79777406        nan 0.47746479\n",
            " 0.61657638 0.43131094 0.78798385 0.79777406        nan 0.42957746\n",
            " 0.77956269 0.77956269 0.7921895  0.79217965        nan 0.79919236\n",
            " 0.77956269 0.77956269 0.7921895  0.79217965        nan 0.7935684\n",
            " 0.77956269 0.77956269 0.7921895  0.79217965        nan 0.77956269\n",
            " 0.7851374  0.7935487  0.79495716 0.7935487         nan 0.7907515\n",
            " 0.7851374  0.7935487  0.79495716 0.7935487         nan 0.794967\n",
            " 0.7837388  0.7935487  0.79495716 0.7935487         nan 0.79495716\n",
            " 0.80056141 0.79916281 0.80336846 0.80196986        nan 0.80196986\n",
            " 0.80056141 0.79916281 0.80336846 0.80196986        nan 0.80196986\n",
            " 0.80056141 0.79916281 0.80336846 0.80196986        nan 0.79916281\n",
            " 0.80336846 0.80336846 0.80336846 0.80336846        nan 0.80336846\n",
            " 0.80336846 0.80336846 0.80336846 0.80336846        nan 0.80336846\n",
            " 0.80336846 0.80336846 0.80336846 0.80336846        nan 0.80336846\n",
            " 0.80336846 0.80336846 0.80336846 0.80336846        nan 0.80336846\n",
            " 0.80336846 0.80336846 0.80336846 0.80336846        nan 0.80336846\n",
            " 0.80336846 0.80336846 0.80336846 0.80336846        nan 0.80336846]\n",
            "  warnings.warn(\n",
            "/usr/local/lib/python3.11/dist-packages/sklearn/linear_model/_logistic.py:1196: UserWarning: l1_ratio parameter is only used when penalty is 'elasticnet'. Got (penalty=l2)\n",
            "  warnings.warn(\n"
          ]
        }
      ]
    },
    {
      "cell_type": "markdown",
      "source": [
        "calculating Predictions, Accuracy and Classification Report\n",
        "\n",
        "---"
      ],
      "metadata": {
        "id": "n7IPRfvRpZ0r"
      }
    },
    {
      "cell_type": "code",
      "source": [
        "\n",
        "y_pred = tuned_model.predict(X_test_selected)\n",
        "\n",
        "\n",
        "accuracy = accuracy_score(y_test, y_pred)\n",
        "print(f'Accuracy: {accuracy*100:.2f}%')\n",
        "\n",
        "\n",
        "print(\"Classification Report:\")\n",
        "print(classification_report(y_test, y_pred))"
      ],
      "metadata": {
        "colab": {
          "base_uri": "https://localhost:8080/"
        },
        "id": "almCoy5XWL0H",
        "outputId": "0ee3c443-9eea-4556-fc90-91e7c549e04f"
      },
      "execution_count": 8,
      "outputs": [
        {
          "output_type": "stream",
          "name": "stdout",
          "text": [
            "Accuracy: 84.36%\n",
            "Classification Report:\n",
            "              precision    recall  f1-score   support\n",
            "\n",
            "           0       0.89      0.85      0.87       110\n",
            "           1       0.77      0.84      0.81        69\n",
            "\n",
            "    accuracy                           0.84       179\n",
            "   macro avg       0.83      0.84      0.84       179\n",
            "weighted avg       0.85      0.84      0.84       179\n",
            "\n"
          ]
        }
      ]
    },
    {
      "cell_type": "markdown",
      "source": [
        " Confusion Matrix\n",
        "\n",
        " ---"
      ],
      "metadata": {
        "id": "FO1RVYAfprNU"
      }
    },
    {
      "cell_type": "code",
      "source": [
        "# Confusion Matrix\n",
        "cm = confusion_matrix(y_test, y_pred)\n",
        "sns.heatmap(cm, annot=True, cmap='Blues', fmt='d')\n",
        "plt.xlabel('Predicted')\n",
        "plt.ylabel('Actual')\n",
        "plt.title('Confusion Matrix')\n",
        "plt.show()\n",
        "\n"
      ],
      "metadata": {
        "colab": {
          "base_uri": "https://localhost:8080/",
          "height": 472
        },
        "id": "zdNe3SitWPHF",
        "outputId": "2a471c7e-3037-4674-aa18-58adc8c79eba"
      },
      "execution_count": 9,
      "outputs": [
        {
          "output_type": "display_data",
          "data": {
            "text/plain": [
              "<Figure size 640x480 with 2 Axes>"
            ],
            "image/png": "[encoded data removed]"
          },
          "metadata": {}
        }
      ]
    },
    {
      "cell_type": "markdown",
      "source": [
        "ROC Curve\n",
        "\n",
        "\n",
        "---"
      ],
      "metadata": {
        "id": "fMFuK6aBpzJ7"
      }
    },
    {
      "cell_type": "code",
      "source": [
        "# ROC Curve\n",
        "fpr, tpr, _ = roc_curve(y_test, tuned_model.predict_proba(X_test_selected)[:, 1])\n",
        "roc_auc = roc_auc_score(y_test, y_pred)\n",
        "plt.plot(fpr, tpr, color='blue', label=f'ROC Curve (AUC = {roc_auc:.2f})')\n",
        "plt.plot([0, 1], [0, 1], linestyle='--', color='gray')\n",
        "plt.xlabel('False Positive Rate')\n",
        "plt.ylabel('True Positive Rate')\n",
        "plt.title('ROC Curve')\n",
        "plt.legend()\n",
        "plt.show()"
      ],
      "metadata": {
        "colab": {
          "base_uri": "https://localhost:8080/",
          "height": 472
        },
        "id": "Hz488WVZWQZU",
        "outputId": "97d774cc-9b44-45d5-f727-03128a5143cb"
      },
      "execution_count": 10,
      "outputs": [
        {
          "output_type": "display_data",
          "data": {
            "text/plain": [
              "<Figure size 640x480 with 1 Axes>"
            ],
            "image/png": "[encoded data removed]"
          },
          "metadata": {}
        }
      ]
    }
  ]
}